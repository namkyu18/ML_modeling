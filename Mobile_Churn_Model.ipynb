{
 "cells": [
  {
   "cell_type": "markdown",
   "metadata": {},
   "source": [
    "# Import libraries"
   ]
  },
  {
   "cell_type": "code",
   "execution_count": 1,
   "metadata": {},
   "outputs": [],
   "source": [
    "import numpy as np\n",
    "import matplotlib.pyplot as plt\n",
    "import pandas as pd\n",
    "import seaborn as sns\n",
    "%matplotlib inline"
   ]
  },
  {
   "cell_type": "markdown",
   "metadata": {},
   "source": [
    "# Get the data"
   ]
  },
  {
   "cell_type": "code",
   "execution_count": 2,
   "metadata": {},
   "outputs": [],
   "source": [
    "df = pd.read_csv(\"C:/Users/namkyu.im/Documents/Churn_data.csv\")"
   ]
  },
  {
   "cell_type": "code",
   "execution_count": 3,
   "metadata": {},
   "outputs": [
    {
     "data": {
      "text/html": [
       "<div>\n",
       "<style scoped>\n",
       "    .dataframe tbody tr th:only-of-type {\n",
       "        vertical-align: middle;\n",
       "    }\n",
       "\n",
       "    .dataframe tbody tr th {\n",
       "        vertical-align: top;\n",
       "    }\n",
       "\n",
       "    .dataframe thead th {\n",
       "        text-align: right;\n",
       "    }\n",
       "</style>\n",
       "<table border=\"1\" class=\"dataframe\">\n",
       "  <thead>\n",
       "    <tr style=\"text-align: right;\">\n",
       "      <th></th>\n",
       "      <th>id</th>\n",
       "      <th>device_name</th>\n",
       "      <th>carrier</th>\n",
       "      <th>OS</th>\n",
       "      <th>state</th>\n",
       "      <th>gender</th>\n",
       "      <th>income_group</th>\n",
       "      <th>age_group</th>\n",
       "      <th>Browser</th>\n",
       "      <th>Browser_PCT</th>\n",
       "      <th>...</th>\n",
       "      <th>Launcher</th>\n",
       "      <th>Launcher_PCT</th>\n",
       "      <th>Messaging/SMS</th>\n",
       "      <th>Messaging/SMS_PCT</th>\n",
       "      <th>date_diff</th>\n",
       "      <th>total_duration_minute</th>\n",
       "      <th>avg_duration_minute</th>\n",
       "      <th>total_session_cnt</th>\n",
       "      <th>avg_session_cnt</th>\n",
       "      <th>Left</th>\n",
       "    </tr>\n",
       "  </thead>\n",
       "  <tbody>\n",
       "    <tr>\n",
       "      <th>0</th>\n",
       "      <td>1</td>\n",
       "      <td>GS8</td>\n",
       "      <td>Verizon</td>\n",
       "      <td>Android</td>\n",
       "      <td>CA</td>\n",
       "      <td>Female</td>\n",
       "      <td>50-100</td>\n",
       "      <td>25-35</td>\n",
       "      <td>44532.0</td>\n",
       "      <td>0.33</td>\n",
       "      <td>...</td>\n",
       "      <td>8743.0</td>\n",
       "      <td>0.06</td>\n",
       "      <td>45226.0</td>\n",
       "      <td>0.33</td>\n",
       "      <td>455</td>\n",
       "      <td>136347</td>\n",
       "      <td>305</td>\n",
       "      <td>49308</td>\n",
       "      <td>110</td>\n",
       "      <td>0</td>\n",
       "    </tr>\n",
       "    <tr>\n",
       "      <th>1</th>\n",
       "      <td>2</td>\n",
       "      <td>Note8</td>\n",
       "      <td>Verizon</td>\n",
       "      <td>iOS</td>\n",
       "      <td>NY</td>\n",
       "      <td>Male</td>\n",
       "      <td>100+</td>\n",
       "      <td>36-50</td>\n",
       "      <td>13723.0</td>\n",
       "      <td>0.10</td>\n",
       "      <td>...</td>\n",
       "      <td>13699.0</td>\n",
       "      <td>0.10</td>\n",
       "      <td>23580.0</td>\n",
       "      <td>0.18</td>\n",
       "      <td>367</td>\n",
       "      <td>133143</td>\n",
       "      <td>361</td>\n",
       "      <td>48211</td>\n",
       "      <td>131</td>\n",
       "      <td>1</td>\n",
       "    </tr>\n",
       "    <tr>\n",
       "      <th>2</th>\n",
       "      <td>3</td>\n",
       "      <td>GS8</td>\n",
       "      <td>Verizon</td>\n",
       "      <td>Android</td>\n",
       "      <td>NM</td>\n",
       "      <td>Male</td>\n",
       "      <td>50-100</td>\n",
       "      <td>36-50</td>\n",
       "      <td>8995.0</td>\n",
       "      <td>0.05</td>\n",
       "      <td>...</td>\n",
       "      <td>18779.0</td>\n",
       "      <td>0.11</td>\n",
       "      <td>52758.0</td>\n",
       "      <td>0.32</td>\n",
       "      <td>507</td>\n",
       "      <td>164016</td>\n",
       "      <td>330</td>\n",
       "      <td>47719</td>\n",
       "      <td>96</td>\n",
       "      <td>1</td>\n",
       "    </tr>\n",
       "    <tr>\n",
       "      <th>3</th>\n",
       "      <td>4</td>\n",
       "      <td>GS8</td>\n",
       "      <td>Verizon</td>\n",
       "      <td>Android</td>\n",
       "      <td>IL</td>\n",
       "      <td>Male</td>\n",
       "      <td>0-50</td>\n",
       "      <td>18-24</td>\n",
       "      <td>8935.0</td>\n",
       "      <td>0.05</td>\n",
       "      <td>...</td>\n",
       "      <td>9520.0</td>\n",
       "      <td>0.06</td>\n",
       "      <td>29255.0</td>\n",
       "      <td>0.18</td>\n",
       "      <td>381</td>\n",
       "      <td>163393</td>\n",
       "      <td>502</td>\n",
       "      <td>46240</td>\n",
       "      <td>142</td>\n",
       "      <td>1</td>\n",
       "    </tr>\n",
       "    <tr>\n",
       "      <th>4</th>\n",
       "      <td>5</td>\n",
       "      <td>GS7</td>\n",
       "      <td>Verizon</td>\n",
       "      <td>Android</td>\n",
       "      <td>AZ</td>\n",
       "      <td>Female</td>\n",
       "      <td>0-50</td>\n",
       "      <td>18-24</td>\n",
       "      <td>19748.0</td>\n",
       "      <td>0.14</td>\n",
       "      <td>...</td>\n",
       "      <td>30387.0</td>\n",
       "      <td>0.21</td>\n",
       "      <td>12023.0</td>\n",
       "      <td>0.08</td>\n",
       "      <td>648</td>\n",
       "      <td>144336</td>\n",
       "      <td>225</td>\n",
       "      <td>44582</td>\n",
       "      <td>69</td>\n",
       "      <td>1</td>\n",
       "    </tr>\n",
       "  </tbody>\n",
       "</table>\n",
       "<p>5 rows × 26 columns</p>\n",
       "</div>"
      ],
      "text/plain": [
       "   id device_name  carrier       OS state  gender income_group age_group  \\\n",
       "0   1         GS8  Verizon  Android    CA  Female       50-100     25-35   \n",
       "1   2       Note8  Verizon      iOS    NY    Male         100+     36-50   \n",
       "2   3         GS8  Verizon  Android    NM    Male       50-100     36-50   \n",
       "3   4         GS8  Verizon  Android    IL    Male         0-50     18-24   \n",
       "4   5         GS7  Verizon  Android    AZ  Female         0-50     18-24   \n",
       "\n",
       "   Browser  Browser_PCT  ...  Launcher  Launcher_PCT  Messaging/SMS  \\\n",
       "0  44532.0         0.33  ...    8743.0          0.06        45226.0   \n",
       "1  13723.0         0.10  ...   13699.0          0.10        23580.0   \n",
       "2   8995.0         0.05  ...   18779.0          0.11        52758.0   \n",
       "3   8935.0         0.05  ...    9520.0          0.06        29255.0   \n",
       "4  19748.0         0.14  ...   30387.0          0.21        12023.0   \n",
       "\n",
       "   Messaging/SMS_PCT  date_diff  total_duration_minute  avg_duration_minute  \\\n",
       "0               0.33        455                 136347                  305   \n",
       "1               0.18        367                 133143                  361   \n",
       "2               0.32        507                 164016                  330   \n",
       "3               0.18        381                 163393                  502   \n",
       "4               0.08        648                 144336                  225   \n",
       "\n",
       "   total_session_cnt  avg_session_cnt  Left  \n",
       "0              49308              110     0  \n",
       "1              48211              131     1  \n",
       "2              47719               96     1  \n",
       "3              46240              142     1  \n",
       "4              44582               69     1  \n",
       "\n",
       "[5 rows x 26 columns]"
      ]
     },
     "execution_count": 3,
     "metadata": {},
     "output_type": "execute_result"
    }
   ],
   "source": [
    "df.head()"
   ]
  },
  {
   "cell_type": "code",
   "execution_count": 4,
   "metadata": {},
   "outputs": [
    {
     "name": "stdout",
     "output_type": "stream",
     "text": [
      "<class 'pandas.core.frame.DataFrame'>\n",
      "RangeIndex: 4999 entries, 0 to 4998\n",
      "Data columns (total 26 columns):\n",
      " #   Column                 Non-Null Count  Dtype  \n",
      "---  ------                 --------------  -----  \n",
      " 0   id                     4999 non-null   int64  \n",
      " 1   device_name            4999 non-null   object \n",
      " 2   carrier                4999 non-null   object \n",
      " 3   OS                     4999 non-null   object \n",
      " 4   state                  4999 non-null   object \n",
      " 5   gender                 4999 non-null   object \n",
      " 6   income_group           4999 non-null   object \n",
      " 7   age_group              4999 non-null   object \n",
      " 8   Browser                4986 non-null   float64\n",
      " 9   Browser_PCT            4986 non-null   float64\n",
      " 10  Communication          4986 non-null   float64\n",
      " 11  Communication_PCT      4986 non-null   float64\n",
      " 12  Entertainment          4986 non-null   float64\n",
      " 13  Entertainment_PCT      4986 non-null   float64\n",
      " 14  Game                   4986 non-null   float64\n",
      " 15  Game_PCT               4986 non-null   float64\n",
      " 16  Launcher               4986 non-null   float64\n",
      " 17  Launcher_PCT           4986 non-null   float64\n",
      " 18  Messaging/SMS          4986 non-null   float64\n",
      " 19  Messaging/SMS_PCT      4986 non-null   float64\n",
      " 20  date_diff              4999 non-null   int64  \n",
      " 21  total_duration_minute  4999 non-null   int64  \n",
      " 22  avg_duration_minute    4999 non-null   int64  \n",
      " 23  total_session_cnt      4999 non-null   int64  \n",
      " 24  avg_session_cnt        4999 non-null   int64  \n",
      " 25  Left                   4999 non-null   int64  \n",
      "dtypes: float64(12), int64(7), object(7)\n",
      "memory usage: 1015.5+ KB\n"
     ]
    }
   ],
   "source": [
    "df.info()"
   ]
  },
  {
   "cell_type": "code",
   "execution_count": 5,
   "metadata": {},
   "outputs": [
    {
     "data": {
      "text/html": [
       "<div>\n",
       "<style scoped>\n",
       "    .dataframe tbody tr th:only-of-type {\n",
       "        vertical-align: middle;\n",
       "    }\n",
       "\n",
       "    .dataframe tbody tr th {\n",
       "        vertical-align: top;\n",
       "    }\n",
       "\n",
       "    .dataframe thead th {\n",
       "        text-align: right;\n",
       "    }\n",
       "</style>\n",
       "<table border=\"1\" class=\"dataframe\">\n",
       "  <thead>\n",
       "    <tr style=\"text-align: right;\">\n",
       "      <th></th>\n",
       "      <th>id</th>\n",
       "      <th>Browser</th>\n",
       "      <th>Browser_PCT</th>\n",
       "      <th>Communication</th>\n",
       "      <th>Communication_PCT</th>\n",
       "      <th>Entertainment</th>\n",
       "      <th>Entertainment_PCT</th>\n",
       "      <th>Game</th>\n",
       "      <th>Game_PCT</th>\n",
       "      <th>Launcher</th>\n",
       "      <th>Launcher_PCT</th>\n",
       "      <th>Messaging/SMS</th>\n",
       "      <th>Messaging/SMS_PCT</th>\n",
       "      <th>date_diff</th>\n",
       "      <th>total_duration_minute</th>\n",
       "      <th>avg_duration_minute</th>\n",
       "      <th>total_session_cnt</th>\n",
       "      <th>avg_session_cnt</th>\n",
       "      <th>Left</th>\n",
       "    </tr>\n",
       "  </thead>\n",
       "  <tbody>\n",
       "    <tr>\n",
       "      <th>count</th>\n",
       "      <td>4999.000000</td>\n",
       "      <td>4986.000000</td>\n",
       "      <td>4986.000000</td>\n",
       "      <td>4986.000000</td>\n",
       "      <td>4986.000000</td>\n",
       "      <td>4986.000000</td>\n",
       "      <td>4986.00000</td>\n",
       "      <td>4986.000000</td>\n",
       "      <td>4986.000000</td>\n",
       "      <td>4986.000000</td>\n",
       "      <td>4986.000000</td>\n",
       "      <td>4986.000000</td>\n",
       "      <td>4986.000000</td>\n",
       "      <td>4999.000000</td>\n",
       "      <td>4999.000000</td>\n",
       "      <td>4999.000000</td>\n",
       "      <td>4999.000000</td>\n",
       "      <td>4999.000000</td>\n",
       "      <td>4999.000000</td>\n",
       "    </tr>\n",
       "    <tr>\n",
       "      <th>mean</th>\n",
       "      <td>2500.000000</td>\n",
       "      <td>6312.793020</td>\n",
       "      <td>1.956728</td>\n",
       "      <td>6516.189531</td>\n",
       "      <td>0.357415</td>\n",
       "      <td>5208.890694</td>\n",
       "      <td>6.12948</td>\n",
       "      <td>3534.245287</td>\n",
       "      <td>0.249592</td>\n",
       "      <td>11491.008825</td>\n",
       "      <td>1.554633</td>\n",
       "      <td>4642.129563</td>\n",
       "      <td>1.015341</td>\n",
       "      <td>319.108822</td>\n",
       "      <td>67780.145829</td>\n",
       "      <td>267.441088</td>\n",
       "      <td>7776.221044</td>\n",
       "      <td>30.702340</td>\n",
       "      <td>0.450490</td>\n",
       "    </tr>\n",
       "    <tr>\n",
       "      <th>std</th>\n",
       "      <td>1443.231328</td>\n",
       "      <td>10181.228863</td>\n",
       "      <td>76.713761</td>\n",
       "      <td>9709.771112</td>\n",
       "      <td>11.066291</td>\n",
       "      <td>10709.029735</td>\n",
       "      <td>334.08581</td>\n",
       "      <td>10691.666018</td>\n",
       "      <td>10.641112</td>\n",
       "      <td>13809.670984</td>\n",
       "      <td>57.841077</td>\n",
       "      <td>7063.296924</td>\n",
       "      <td>39.705755</td>\n",
       "      <td>176.261498</td>\n",
       "      <td>61655.686865</td>\n",
       "      <td>146.151515</td>\n",
       "      <td>7168.192705</td>\n",
       "      <td>18.926825</td>\n",
       "      <td>0.497593</td>\n",
       "    </tr>\n",
       "    <tr>\n",
       "      <th>min</th>\n",
       "      <td>1.000000</td>\n",
       "      <td>0.000000</td>\n",
       "      <td>0.000000</td>\n",
       "      <td>0.000000</td>\n",
       "      <td>0.000000</td>\n",
       "      <td>0.000000</td>\n",
       "      <td>0.00000</td>\n",
       "      <td>0.000000</td>\n",
       "      <td>0.000000</td>\n",
       "      <td>0.000000</td>\n",
       "      <td>0.000000</td>\n",
       "      <td>0.000000</td>\n",
       "      <td>0.000000</td>\n",
       "      <td>0.000000</td>\n",
       "      <td>0.000000</td>\n",
       "      <td>0.000000</td>\n",
       "      <td>1.000000</td>\n",
       "      <td>1.000000</td>\n",
       "      <td>0.000000</td>\n",
       "    </tr>\n",
       "    <tr>\n",
       "      <th>25%</th>\n",
       "      <td>1250.500000</td>\n",
       "      <td>832.250000</td>\n",
       "      <td>0.030000</td>\n",
       "      <td>806.000000</td>\n",
       "      <td>0.030000</td>\n",
       "      <td>284.000000</td>\n",
       "      <td>0.01000</td>\n",
       "      <td>0.000000</td>\n",
       "      <td>0.000000</td>\n",
       "      <td>2057.250000</td>\n",
       "      <td>0.090000</td>\n",
       "      <td>387.250000</td>\n",
       "      <td>0.010000</td>\n",
       "      <td>152.000000</td>\n",
       "      <td>20147.000000</td>\n",
       "      <td>161.000000</td>\n",
       "      <td>2287.500000</td>\n",
       "      <td>18.000000</td>\n",
       "      <td>0.000000</td>\n",
       "    </tr>\n",
       "    <tr>\n",
       "      <th>50%</th>\n",
       "      <td>2500.000000</td>\n",
       "      <td>3003.000000</td>\n",
       "      <td>0.060000</td>\n",
       "      <td>2970.500000</td>\n",
       "      <td>0.060000</td>\n",
       "      <td>1402.000000</td>\n",
       "      <td>0.03000</td>\n",
       "      <td>171.000000</td>\n",
       "      <td>0.000000</td>\n",
       "      <td>6739.500000</td>\n",
       "      <td>0.150000</td>\n",
       "      <td>1959.000000</td>\n",
       "      <td>0.050000</td>\n",
       "      <td>377.000000</td>\n",
       "      <td>50164.000000</td>\n",
       "      <td>262.000000</td>\n",
       "      <td>5743.000000</td>\n",
       "      <td>29.000000</td>\n",
       "      <td>0.000000</td>\n",
       "    </tr>\n",
       "    <tr>\n",
       "      <th>75%</th>\n",
       "      <td>3749.500000</td>\n",
       "      <td>7672.500000</td>\n",
       "      <td>0.110000</td>\n",
       "      <td>8038.750000</td>\n",
       "      <td>0.120000</td>\n",
       "      <td>5278.000000</td>\n",
       "      <td>0.09000</td>\n",
       "      <td>2222.500000</td>\n",
       "      <td>0.040000</td>\n",
       "      <td>16167.250000</td>\n",
       "      <td>0.240000</td>\n",
       "      <td>5828.750000</td>\n",
       "      <td>0.100000</td>\n",
       "      <td>400.500000</td>\n",
       "      <td>102804.000000</td>\n",
       "      <td>364.000000</td>\n",
       "      <td>11560.000000</td>\n",
       "      <td>41.000000</td>\n",
       "      <td>1.000000</td>\n",
       "    </tr>\n",
       "    <tr>\n",
       "      <th>max</th>\n",
       "      <td>4999.000000</td>\n",
       "      <td>178783.000000</td>\n",
       "      <td>4060.000000</td>\n",
       "      <td>94708.000000</td>\n",
       "      <td>671.000000</td>\n",
       "      <td>196198.000000</td>\n",
       "      <td>22835.00000</td>\n",
       "      <td>217779.000000</td>\n",
       "      <td>730.000000</td>\n",
       "      <td>156538.000000</td>\n",
       "      <td>3728.000000</td>\n",
       "      <td>83665.000000</td>\n",
       "      <td>2477.000000</td>\n",
       "      <td>751.000000</td>\n",
       "      <td>496328.000000</td>\n",
       "      <td>1004.000000</td>\n",
       "      <td>49308.000000</td>\n",
       "      <td>180.000000</td>\n",
       "      <td>1.000000</td>\n",
       "    </tr>\n",
       "  </tbody>\n",
       "</table>\n",
       "</div>"
      ],
      "text/plain": [
       "                id        Browser  Browser_PCT  Communication  \\\n",
       "count  4999.000000    4986.000000  4986.000000    4986.000000   \n",
       "mean   2500.000000    6312.793020     1.956728    6516.189531   \n",
       "std    1443.231328   10181.228863    76.713761    9709.771112   \n",
       "min       1.000000       0.000000     0.000000       0.000000   \n",
       "25%    1250.500000     832.250000     0.030000     806.000000   \n",
       "50%    2500.000000    3003.000000     0.060000    2970.500000   \n",
       "75%    3749.500000    7672.500000     0.110000    8038.750000   \n",
       "max    4999.000000  178783.000000  4060.000000   94708.000000   \n",
       "\n",
       "       Communication_PCT  Entertainment  Entertainment_PCT           Game  \\\n",
       "count        4986.000000    4986.000000         4986.00000    4986.000000   \n",
       "mean            0.357415    5208.890694            6.12948    3534.245287   \n",
       "std            11.066291   10709.029735          334.08581   10691.666018   \n",
       "min             0.000000       0.000000            0.00000       0.000000   \n",
       "25%             0.030000     284.000000            0.01000       0.000000   \n",
       "50%             0.060000    1402.000000            0.03000     171.000000   \n",
       "75%             0.120000    5278.000000            0.09000    2222.500000   \n",
       "max           671.000000  196198.000000        22835.00000  217779.000000   \n",
       "\n",
       "          Game_PCT       Launcher  Launcher_PCT  Messaging/SMS  \\\n",
       "count  4986.000000    4986.000000   4986.000000    4986.000000   \n",
       "mean      0.249592   11491.008825      1.554633    4642.129563   \n",
       "std      10.641112   13809.670984     57.841077    7063.296924   \n",
       "min       0.000000       0.000000      0.000000       0.000000   \n",
       "25%       0.000000    2057.250000      0.090000     387.250000   \n",
       "50%       0.000000    6739.500000      0.150000    1959.000000   \n",
       "75%       0.040000   16167.250000      0.240000    5828.750000   \n",
       "max     730.000000  156538.000000   3728.000000   83665.000000   \n",
       "\n",
       "       Messaging/SMS_PCT    date_diff  total_duration_minute  \\\n",
       "count        4986.000000  4999.000000            4999.000000   \n",
       "mean            1.015341   319.108822           67780.145829   \n",
       "std            39.705755   176.261498           61655.686865   \n",
       "min             0.000000     0.000000               0.000000   \n",
       "25%             0.010000   152.000000           20147.000000   \n",
       "50%             0.050000   377.000000           50164.000000   \n",
       "75%             0.100000   400.500000          102804.000000   \n",
       "max          2477.000000   751.000000          496328.000000   \n",
       "\n",
       "       avg_duration_minute  total_session_cnt  avg_session_cnt         Left  \n",
       "count          4999.000000        4999.000000      4999.000000  4999.000000  \n",
       "mean            267.441088        7776.221044        30.702340     0.450490  \n",
       "std             146.151515        7168.192705        18.926825     0.497593  \n",
       "min               0.000000           1.000000         1.000000     0.000000  \n",
       "25%             161.000000        2287.500000        18.000000     0.000000  \n",
       "50%             262.000000        5743.000000        29.000000     0.000000  \n",
       "75%             364.000000       11560.000000        41.000000     1.000000  \n",
       "max            1004.000000       49308.000000       180.000000     1.000000  "
      ]
     },
     "execution_count": 5,
     "metadata": {},
     "output_type": "execute_result"
    }
   ],
   "source": [
    "df.describe()"
   ]
  },
  {
   "cell_type": "code",
   "execution_count": 6,
   "metadata": {},
   "outputs": [
    {
     "data": {
      "text/plain": [
       "Index(['id', 'device_name', 'carrier', 'OS', 'state', 'gender', 'income_group',\n",
       "       'age_group', 'Browser', 'Browser_PCT', 'Communication',\n",
       "       'Communication_PCT', 'Entertainment', 'Entertainment_PCT', 'Game',\n",
       "       'Game_PCT', 'Launcher', 'Launcher_PCT', 'Messaging/SMS',\n",
       "       'Messaging/SMS_PCT', 'date_diff', 'total_duration_minute',\n",
       "       'avg_duration_minute', 'total_session_cnt', 'avg_session_cnt', 'Left'],\n",
       "      dtype='object')"
      ]
     },
     "execution_count": 6,
     "metadata": {},
     "output_type": "execute_result"
    }
   ],
   "source": [
    "df.columns"
   ]
  },
  {
   "cell_type": "markdown",
   "metadata": {},
   "source": [
    "# Exploratory Data Ananlysis"
   ]
  },
  {
   "cell_type": "code",
   "execution_count": 7,
   "metadata": {},
   "outputs": [
    {
     "data": {
      "text/html": [
       "<div>\n",
       "<style scoped>\n",
       "    .dataframe tbody tr th:only-of-type {\n",
       "        vertical-align: middle;\n",
       "    }\n",
       "\n",
       "    .dataframe tbody tr th {\n",
       "        vertical-align: top;\n",
       "    }\n",
       "\n",
       "    .dataframe thead th {\n",
       "        text-align: right;\n",
       "    }\n",
       "</style>\n",
       "<table border=\"1\" class=\"dataframe\">\n",
       "  <thead>\n",
       "    <tr style=\"text-align: right;\">\n",
       "      <th>Left</th>\n",
       "      <th>0</th>\n",
       "      <th>1</th>\n",
       "    </tr>\n",
       "  </thead>\n",
       "  <tbody>\n",
       "    <tr>\n",
       "      <th>id</th>\n",
       "      <td>2287.805970</td>\n",
       "      <td>2758.835258</td>\n",
       "    </tr>\n",
       "    <tr>\n",
       "      <th>Browser</th>\n",
       "      <td>6948.600510</td>\n",
       "      <td>5533.361161</td>\n",
       "    </tr>\n",
       "    <tr>\n",
       "      <th>Browser_PCT</th>\n",
       "      <td>1.238034</td>\n",
       "      <td>2.837770</td>\n",
       "    </tr>\n",
       "    <tr>\n",
       "      <th>Communication</th>\n",
       "      <td>7375.149308</td>\n",
       "      <td>5463.196875</td>\n",
       "    </tr>\n",
       "    <tr>\n",
       "      <th>Communication_PCT</th>\n",
       "      <td>0.248052</td>\n",
       "      <td>0.491483</td>\n",
       "    </tr>\n",
       "    <tr>\n",
       "      <th>Entertainment</th>\n",
       "      <td>5722.055353</td>\n",
       "      <td>4579.805804</td>\n",
       "    </tr>\n",
       "    <tr>\n",
       "      <th>Entertainment_PCT</th>\n",
       "      <td>2.214559</td>\n",
       "      <td>10.928753</td>\n",
       "    </tr>\n",
       "    <tr>\n",
       "      <th>Game</th>\n",
       "      <td>3743.961034</td>\n",
       "      <td>3277.156250</td>\n",
       "    </tr>\n",
       "    <tr>\n",
       "      <th>Game_PCT</th>\n",
       "      <td>0.372691</td>\n",
       "      <td>0.098686</td>\n",
       "    </tr>\n",
       "    <tr>\n",
       "      <th>Launcher</th>\n",
       "      <td>12515.865259</td>\n",
       "      <td>10234.644643</td>\n",
       "    </tr>\n",
       "    <tr>\n",
       "      <th>Launcher_PCT</th>\n",
       "      <td>0.605382</td>\n",
       "      <td>2.718312</td>\n",
       "    </tr>\n",
       "    <tr>\n",
       "      <th>Messaging/SMS</th>\n",
       "      <td>5106.533139</td>\n",
       "      <td>4072.820536</td>\n",
       "    </tr>\n",
       "    <tr>\n",
       "      <th>Messaging/SMS_PCT</th>\n",
       "      <td>0.415160</td>\n",
       "      <td>1.751098</td>\n",
       "    </tr>\n",
       "    <tr>\n",
       "      <th>date_diff</th>\n",
       "      <td>354.618129</td>\n",
       "      <td>275.794405</td>\n",
       "    </tr>\n",
       "    <tr>\n",
       "      <th>total_duration_minute</th>\n",
       "      <td>75326.811067</td>\n",
       "      <td>58574.688721</td>\n",
       "    </tr>\n",
       "    <tr>\n",
       "      <th>avg_duration_minute</th>\n",
       "      <td>285.616309</td>\n",
       "      <td>245.270870</td>\n",
       "    </tr>\n",
       "    <tr>\n",
       "      <th>total_session_cnt</th>\n",
       "      <td>8558.184201</td>\n",
       "      <td>6822.378774</td>\n",
       "    </tr>\n",
       "    <tr>\n",
       "      <th>avg_session_cnt</th>\n",
       "      <td>31.971241</td>\n",
       "      <td>29.154529</td>\n",
       "    </tr>\n",
       "  </tbody>\n",
       "</table>\n",
       "</div>"
      ],
      "text/plain": [
       "Left                              0             1\n",
       "id                      2287.805970   2758.835258\n",
       "Browser                 6948.600510   5533.361161\n",
       "Browser_PCT                1.238034      2.837770\n",
       "Communication           7375.149308   5463.196875\n",
       "Communication_PCT          0.248052      0.491483\n",
       "Entertainment           5722.055353   4579.805804\n",
       "Entertainment_PCT          2.214559     10.928753\n",
       "Game                    3743.961034   3277.156250\n",
       "Game_PCT                   0.372691      0.098686\n",
       "Launcher               12515.865259  10234.644643\n",
       "Launcher_PCT               0.605382      2.718312\n",
       "Messaging/SMS           5106.533139   4072.820536\n",
       "Messaging/SMS_PCT          0.415160      1.751098\n",
       "date_diff                354.618129    275.794405\n",
       "total_duration_minute  75326.811067  58574.688721\n",
       "avg_duration_minute      285.616309    245.270870\n",
       "total_session_cnt       8558.184201   6822.378774\n",
       "avg_session_cnt           31.971241     29.154529"
      ]
     },
     "execution_count": 7,
     "metadata": {},
     "output_type": "execute_result"
    }
   ],
   "source": [
    "#Data Insights\n",
    "left = df.groupby('Left')\n",
    "left.mean().transpose()"
   ]
  },
  {
   "cell_type": "code",
   "execution_count": 8,
   "metadata": {},
   "outputs": [
    {
     "data": {
      "image/png": "[encoded data removed]",
      "text/plain": [
       "<Figure size 432x288 with 1 Axes>"
      ]
     },
     "metadata": {
      "needs_background": "light"
     },
     "output_type": "display_data"
    },
    {
     "data": {
      "text/plain": [
       "0    2747\n",
       "1    2252\n",
       "Name: Left, dtype: int64"
      ]
     },
     "execution_count": 8,
     "metadata": {},
     "output_type": "execute_result"
    }
   ],
   "source": [
    "#visualization\n",
    "left_count=df.groupby('Left').count()\n",
    "plt.bar(left_count.index.values, left_count['device_name'])\n",
    "plt.xlabel('Device_Name')\n",
    "plt.ylabel('Number of Device')\n",
    "plt.show()\n",
    "\n",
    "df.Left.value_counts()"
   ]
  },
  {
   "cell_type": "code",
   "execution_count": 9,
   "metadata": {},
   "outputs": [
    {
     "data": {
      "text/plain": [
       "<matplotlib.axes._subplots.AxesSubplot at 0x21115619d08>"
      ]
     },
     "execution_count": 9,
     "metadata": {},
     "output_type": "execute_result"
    },
    {
     "data": {
      "image/png": "[encoded data removed]",
      "text/plain": [
       "<Figure size 720x288 with 1 Axes>"
      ]
     },
     "metadata": {
      "needs_background": "light"
     },
     "output_type": "display_data"
    }
   ],
   "source": [
    "plt.figure(figsize = (10,4))\n",
    "sns.set_style('whitegrid')\n",
    "sns.countplot(x='Left', data = df, palette ='RdBu_r')"
   ]
  },
  {
   "cell_type": "code",
   "execution_count": 10,
   "metadata": {},
   "outputs": [
    {
     "data": {
      "text/plain": [
       "<matplotlib.axes._subplots.AxesSubplot at 0x21115674888>"
      ]
     },
     "execution_count": 10,
     "metadata": {},
     "output_type": "execute_result"
    },
    {
     "data": {
      "image/png": "[encoded data removed]",
      "text/plain": [
       "<Figure size 720x288 with 1 Axes>"
      ]
     },
     "metadata": {},
     "output_type": "display_data"
    }
   ],
   "source": [
    "plt.figure(figsize = (10,4))\n",
    "sns.set_style('whitegrid')\n",
    "sns.countplot(x='Left',hue ='gender', data = df, palette ='RdBu_r')"
   ]
  },
  {
   "cell_type": "code",
   "execution_count": 11,
   "metadata": {},
   "outputs": [
    {
     "data": {
      "image/png": "[encoded data removed]",
      "text/plain": [
       "<Figure size 720x1080 with 7 Axes>"
      ]
     },
     "metadata": {},
     "output_type": "display_data"
    }
   ],
   "source": [
    "#subplots using seaborn\n",
    "features=['device_name','carrier','OS','state', 'gender','income_group','age_group']\n",
    "fig=plt.subplots(figsize=(10,15))\n",
    "sns.set_style('whitegrid')\n",
    "for i, j in enumerate(features):\n",
    "    plt.subplot(4, 2, i+1)\n",
    "    plt.subplots_adjust(hspace = 1.0)\n",
    "    sns.countplot(x=j,data = df)\n",
    "    plt.xticks(rotation=90)\n",
    "    plt.title(\"No. of device\")"
   ]
  },
  {
   "cell_type": "code",
   "execution_count": 12,
   "metadata": {},
   "outputs": [
    {
     "data": {
      "image/png": "[encoded data removed]",
      "text/plain": [
       "<Figure size 720x1080 with 7 Axes>"
      ]
     },
     "metadata": {},
     "output_type": "display_data"
    }
   ],
   "source": [
    "#left people\n",
    "fig=plt.subplots(figsize=(10,15))\n",
    "sns.set_style('whitegrid')\n",
    "for i, j in enumerate(features):\n",
    "    plt.subplot(4, 2, i+1)\n",
    "    plt.subplots_adjust(hspace = 1.0)\n",
    "    sns.countplot(x=j,data = df, hue='Left')\n",
    "    plt.xticks(rotation=90)\n",
    "    plt.title(\"No. of device\")"
   ]
  },
  {
   "cell_type": "code",
   "execution_count": 13,
   "metadata": {},
   "outputs": [
    {
     "data": {
      "text/plain": [
       "<matplotlib.axes._subplots.AxesSubplot at 0x211158009c8>"
      ]
     },
     "execution_count": 13,
     "metadata": {},
     "output_type": "execute_result"
    },
    {
     "data": {
      "image/png": "[encoded data removed]",
      "text/plain": [
       "<Figure size 1080x576 with 2 Axes>"
      ]
     },
     "metadata": {},
     "output_type": "display_data"
    }
   ],
   "source": [
    "plt.figure(figsize=(15,8))\n",
    "sns.heatmap(df.corr(), annot=True, cmap ='YlGnBu')"
   ]
  },
  {
   "cell_type": "markdown",
   "metadata": {},
   "source": [
    "# Replaced data with existing data"
   ]
  },
  {
   "cell_type": "code",
   "execution_count": 14,
   "metadata": {},
   "outputs": [
    {
     "data": {
      "text/plain": [
       "Verizon        1668\n",
       "AT&T           1287\n",
       "T-Mobile       1215\n",
       "Sprint          710\n",
       "Unlocked        116\n",
       "US Cellular       1\n",
       "MetroPCS          1\n",
       "Wifi              1\n",
       "Name: carrier, dtype: int64"
      ]
     },
     "execution_count": 14,
     "metadata": {},
     "output_type": "execute_result"
    }
   ],
   "source": [
    "df['carrier'].value_counts()"
   ]
  },
  {
   "cell_type": "code",
   "execution_count": 15,
   "metadata": {},
   "outputs": [],
   "source": [
    "df['carrier'] = df['carrier'].replace(['MetroPCS','US Cellular', 'Wifi'], 'Unlocked')"
   ]
  },
  {
   "cell_type": "code",
   "execution_count": 16,
   "metadata": {},
   "outputs": [
    {
     "data": {
      "text/plain": [
       "Verizon     1668\n",
       "AT&T        1287\n",
       "T-Mobile    1215\n",
       "Sprint       710\n",
       "Unlocked     119\n",
       "Name: carrier, dtype: int64"
      ]
     },
     "execution_count": 16,
     "metadata": {},
     "output_type": "execute_result"
    }
   ],
   "source": [
    "df['carrier'].value_counts()"
   ]
  },
  {
   "cell_type": "code",
   "execution_count": 17,
   "metadata": {},
   "outputs": [
    {
     "data": {
      "text/plain": [
       "GS8       998\n",
       "Note9     969\n",
       "GS7       839\n",
       "Note8     780\n",
       "Others    574\n",
       "GS9       500\n",
       "Note5     172\n",
       "GS6       167\n",
       "Name: device_name, dtype: int64"
      ]
     },
     "execution_count": 17,
     "metadata": {},
     "output_type": "execute_result"
    }
   ],
   "source": [
    "df['device_name'].value_counts()"
   ]
  },
  {
   "cell_type": "code",
   "execution_count": 18,
   "metadata": {},
   "outputs": [],
   "source": [
    "df['device_name'] = df['device_name'].replace(['Note5','GS6'], 'Others')"
   ]
  },
  {
   "cell_type": "code",
   "execution_count": 19,
   "metadata": {},
   "outputs": [
    {
     "data": {
      "text/plain": [
       "GS8       998\n",
       "Note9     969\n",
       "Others    913\n",
       "GS7       839\n",
       "Note8     780\n",
       "GS9       500\n",
       "Name: device_name, dtype: int64"
      ]
     },
     "execution_count": 19,
     "metadata": {},
     "output_type": "execute_result"
    }
   ],
   "source": [
    "df['device_name'].value_counts()"
   ]
  },
  {
   "cell_type": "code",
   "execution_count": 20,
   "metadata": {},
   "outputs": [
    {
     "data": {
      "text/plain": [
       "PR     1\n",
       "VT     1\n",
       "WV     2\n",
       "MT     5\n",
       "AK     5\n",
       "RI     6\n",
       "SD     6\n",
       "DC     8\n",
       "ME     9\n",
       "ND    10\n",
       "NH    10\n",
       "WY    11\n",
       "DE    14\n",
       "NM    20\n",
       "ID    23\n",
       "MS    24\n",
       "HI    27\n",
       "IA    29\n",
       "OK    31\n",
       "NE    31\n",
       "Name: state, dtype: int64"
      ]
     },
     "execution_count": 20,
     "metadata": {},
     "output_type": "execute_result"
    }
   ],
   "source": [
    "df['state'].value_counts(ascending=True).head(20)"
   ]
  },
  {
   "cell_type": "code",
   "execution_count": 21,
   "metadata": {},
   "outputs": [],
   "source": [
    "other_states = ['PR',\n",
    "'VT',\n",
    "'WV',\n",
    "'MT',\n",
    "'AK',\n",
    "'RI',\n",
    "'SD',\n",
    "'DC',\n",
    "'ME',\n",
    "'ND',\n",
    "'NH',\n",
    "'WY',\n",
    "'DE',\n",
    "'NM',\n",
    "'ID',\n",
    "'MS',\n",
    "'HI',\n",
    "'IA',\n",
    "'NE',\n",
    "'OK',\n",
    "'LA',\n",
    "'KS',\n",
    "'AR']"
   ]
  },
  {
   "cell_type": "code",
   "execution_count": 22,
   "metadata": {},
   "outputs": [],
   "source": [
    "df['state'] = df['state'].replace(other_states, 'Other')"
   ]
  },
  {
   "cell_type": "code",
   "execution_count": 23,
   "metadata": {},
   "outputs": [],
   "source": [
    "state_order = df['state'].value_counts(ascending=False)"
   ]
  },
  {
   "cell_type": "code",
   "execution_count": 24,
   "metadata": {},
   "outputs": [
    {
     "data": {
      "text/plain": [
       "<matplotlib.axes._subplots.AxesSubplot at 0x21114f51888>"
      ]
     },
     "execution_count": 24,
     "metadata": {},
     "output_type": "execute_result"
    },
    {
     "data": {
      "image/png": "[encoded data removed]",
      "text/plain": [
       "<Figure size 1080x576 with 1 Axes>"
      ]
     },
     "metadata": {},
     "output_type": "display_data"
    }
   ],
   "source": [
    "plt.figure(figsize=(15,8))\n",
    "sns.countplot(x='state', data = df)"
   ]
  },
  {
   "cell_type": "markdown",
   "metadata": {},
   "source": [
    "# Missing Data"
   ]
  },
  {
   "cell_type": "code",
   "execution_count": 25,
   "metadata": {},
   "outputs": [
    {
     "data": {
      "text/plain": [
       "id                        0\n",
       "device_name               0\n",
       "carrier                   0\n",
       "OS                        0\n",
       "state                     0\n",
       "gender                    0\n",
       "income_group              0\n",
       "age_group                 0\n",
       "Browser                  13\n",
       "Browser_PCT              13\n",
       "Communication            13\n",
       "Communication_PCT        13\n",
       "Entertainment            13\n",
       "Entertainment_PCT        13\n",
       "Game                     13\n",
       "Game_PCT                 13\n",
       "Launcher                 13\n",
       "Launcher_PCT             13\n",
       "Messaging/SMS            13\n",
       "Messaging/SMS_PCT        13\n",
       "date_diff                 0\n",
       "total_duration_minute     0\n",
       "avg_duration_minute       0\n",
       "total_session_cnt         0\n",
       "avg_session_cnt           0\n",
       "Left                      0\n",
       "dtype: int64"
      ]
     },
     "execution_count": 25,
     "metadata": {},
     "output_type": "execute_result"
    }
   ],
   "source": [
    "df.isnull().sum()"
   ]
  },
  {
   "cell_type": "code",
   "execution_count": 26,
   "metadata": {},
   "outputs": [],
   "source": [
    "#13/5000 = 0.0026 less than 1% of the record- remove the missing data\n",
    "df = df.dropna()"
   ]
  },
  {
   "cell_type": "code",
   "execution_count": 27,
   "metadata": {},
   "outputs": [
    {
     "data": {
      "text/plain": [
       "id                       0\n",
       "device_name              0\n",
       "carrier                  0\n",
       "OS                       0\n",
       "state                    0\n",
       "gender                   0\n",
       "income_group             0\n",
       "age_group                0\n",
       "Browser                  0\n",
       "Browser_PCT              0\n",
       "Communication            0\n",
       "Communication_PCT        0\n",
       "Entertainment            0\n",
       "Entertainment_PCT        0\n",
       "Game                     0\n",
       "Game_PCT                 0\n",
       "Launcher                 0\n",
       "Launcher_PCT             0\n",
       "Messaging/SMS            0\n",
       "Messaging/SMS_PCT        0\n",
       "date_diff                0\n",
       "total_duration_minute    0\n",
       "avg_duration_minute      0\n",
       "total_session_cnt        0\n",
       "avg_session_cnt          0\n",
       "Left                     0\n",
       "dtype: int64"
      ]
     },
     "execution_count": 27,
     "metadata": {},
     "output_type": "execute_result"
    }
   ],
   "source": [
    "df.isnull().sum()"
   ]
  },
  {
   "cell_type": "markdown",
   "metadata": {},
   "source": [
    "# Drop unnecessary feature"
   ]
  },
  {
   "cell_type": "code",
   "execution_count": 28,
   "metadata": {},
   "outputs": [
    {
     "name": "stderr",
     "output_type": "stream",
     "text": [
      "C:\\Users\\namkyu.im\\Anaconda3\\lib\\site-packages\\pandas\\core\\frame.py:3997: SettingWithCopyWarning: \n",
      "A value is trying to be set on a copy of a slice from a DataFrame\n",
      "\n",
      "See the caveats in the documentation: https://pandas.pydata.org/pandas-docs/stable/user_guide/indexing.html#returning-a-view-versus-a-copy\n",
      "  errors=errors,\n"
     ]
    }
   ],
   "source": [
    "df.drop('id',axis =1, inplace=True)"
   ]
  },
  {
   "cell_type": "code",
   "execution_count": 30,
   "metadata": {},
   "outputs": [],
   "source": [
    "dummies = pd.get_dummies(df[['device_name', 'carrier','OS','gender', 'state','income_group','age_group']],drop_first=True)\n",
    "df= df.drop(['device_name', 'carrier','OS','gender', 'state','income_group','age_group'], axis=1)\n"
   ]
  },
  {
   "cell_type": "code",
   "execution_count": 31,
   "metadata": {},
   "outputs": [],
   "source": [
    "df= pd.concat([df,dummies],axis=1)"
   ]
  },
  {
   "cell_type": "code",
   "execution_count": 32,
   "metadata": {},
   "outputs": [
    {
     "data": {
      "text/html": [
       "<div>\n",
       "<style scoped>\n",
       "    .dataframe tbody tr th:only-of-type {\n",
       "        vertical-align: middle;\n",
       "    }\n",
       "\n",
       "    .dataframe tbody tr th {\n",
       "        vertical-align: top;\n",
       "    }\n",
       "\n",
       "    .dataframe thead th {\n",
       "        text-align: right;\n",
       "    }\n",
       "</style>\n",
       "<table border=\"1\" class=\"dataframe\">\n",
       "  <thead>\n",
       "    <tr style=\"text-align: right;\">\n",
       "      <th></th>\n",
       "      <th>Browser</th>\n",
       "      <th>Browser_PCT</th>\n",
       "      <th>Communication</th>\n",
       "      <th>Communication_PCT</th>\n",
       "      <th>Entertainment</th>\n",
       "      <th>Entertainment_PCT</th>\n",
       "      <th>Game</th>\n",
       "      <th>Game_PCT</th>\n",
       "      <th>Launcher</th>\n",
       "      <th>Launcher_PCT</th>\n",
       "      <th>...</th>\n",
       "      <th>state_TX</th>\n",
       "      <th>state_UT</th>\n",
       "      <th>state_VA</th>\n",
       "      <th>state_WA</th>\n",
       "      <th>state_WI</th>\n",
       "      <th>income_group_100+</th>\n",
       "      <th>income_group_50-100</th>\n",
       "      <th>age_group_25-35</th>\n",
       "      <th>age_group_36-50</th>\n",
       "      <th>age_group_51+</th>\n",
       "    </tr>\n",
       "  </thead>\n",
       "  <tbody>\n",
       "    <tr>\n",
       "      <th>0</th>\n",
       "      <td>44532.0</td>\n",
       "      <td>0.33</td>\n",
       "      <td>1292.0</td>\n",
       "      <td>0.01</td>\n",
       "      <td>160.0</td>\n",
       "      <td>0.00</td>\n",
       "      <td>4183.0</td>\n",
       "      <td>0.03</td>\n",
       "      <td>8743.0</td>\n",
       "      <td>0.06</td>\n",
       "      <td>...</td>\n",
       "      <td>0</td>\n",
       "      <td>0</td>\n",
       "      <td>0</td>\n",
       "      <td>0</td>\n",
       "      <td>0</td>\n",
       "      <td>0</td>\n",
       "      <td>1</td>\n",
       "      <td>1</td>\n",
       "      <td>0</td>\n",
       "      <td>0</td>\n",
       "    </tr>\n",
       "    <tr>\n",
       "      <th>1</th>\n",
       "      <td>13723.0</td>\n",
       "      <td>0.10</td>\n",
       "      <td>4731.0</td>\n",
       "      <td>0.04</td>\n",
       "      <td>8695.0</td>\n",
       "      <td>0.07</td>\n",
       "      <td>3.0</td>\n",
       "      <td>0.00</td>\n",
       "      <td>13699.0</td>\n",
       "      <td>0.10</td>\n",
       "      <td>...</td>\n",
       "      <td>0</td>\n",
       "      <td>0</td>\n",
       "      <td>0</td>\n",
       "      <td>0</td>\n",
       "      <td>0</td>\n",
       "      <td>1</td>\n",
       "      <td>0</td>\n",
       "      <td>0</td>\n",
       "      <td>1</td>\n",
       "      <td>0</td>\n",
       "    </tr>\n",
       "    <tr>\n",
       "      <th>2</th>\n",
       "      <td>8995.0</td>\n",
       "      <td>0.05</td>\n",
       "      <td>12977.0</td>\n",
       "      <td>0.08</td>\n",
       "      <td>447.0</td>\n",
       "      <td>0.00</td>\n",
       "      <td>1299.0</td>\n",
       "      <td>0.01</td>\n",
       "      <td>18779.0</td>\n",
       "      <td>0.11</td>\n",
       "      <td>...</td>\n",
       "      <td>0</td>\n",
       "      <td>0</td>\n",
       "      <td>0</td>\n",
       "      <td>0</td>\n",
       "      <td>0</td>\n",
       "      <td>0</td>\n",
       "      <td>1</td>\n",
       "      <td>0</td>\n",
       "      <td>1</td>\n",
       "      <td>0</td>\n",
       "    </tr>\n",
       "    <tr>\n",
       "      <th>3</th>\n",
       "      <td>8935.0</td>\n",
       "      <td>0.05</td>\n",
       "      <td>6372.0</td>\n",
       "      <td>0.04</td>\n",
       "      <td>1416.0</td>\n",
       "      <td>0.01</td>\n",
       "      <td>1366.0</td>\n",
       "      <td>0.01</td>\n",
       "      <td>9520.0</td>\n",
       "      <td>0.06</td>\n",
       "      <td>...</td>\n",
       "      <td>0</td>\n",
       "      <td>0</td>\n",
       "      <td>0</td>\n",
       "      <td>0</td>\n",
       "      <td>0</td>\n",
       "      <td>0</td>\n",
       "      <td>0</td>\n",
       "      <td>0</td>\n",
       "      <td>0</td>\n",
       "      <td>0</td>\n",
       "    </tr>\n",
       "    <tr>\n",
       "      <th>4</th>\n",
       "      <td>19748.0</td>\n",
       "      <td>0.14</td>\n",
       "      <td>2991.0</td>\n",
       "      <td>0.02</td>\n",
       "      <td>23576.0</td>\n",
       "      <td>0.16</td>\n",
       "      <td>973.0</td>\n",
       "      <td>0.01</td>\n",
       "      <td>30387.0</td>\n",
       "      <td>0.21</td>\n",
       "      <td>...</td>\n",
       "      <td>0</td>\n",
       "      <td>0</td>\n",
       "      <td>0</td>\n",
       "      <td>0</td>\n",
       "      <td>0</td>\n",
       "      <td>0</td>\n",
       "      <td>0</td>\n",
       "      <td>0</td>\n",
       "      <td>0</td>\n",
       "      <td>0</td>\n",
       "    </tr>\n",
       "  </tbody>\n",
       "</table>\n",
       "<p>5 rows × 63 columns</p>\n",
       "</div>"
      ],
      "text/plain": [
       "   Browser  Browser_PCT  Communication  Communication_PCT  Entertainment  \\\n",
       "0  44532.0         0.33         1292.0               0.01          160.0   \n",
       "1  13723.0         0.10         4731.0               0.04         8695.0   \n",
       "2   8995.0         0.05        12977.0               0.08          447.0   \n",
       "3   8935.0         0.05         6372.0               0.04         1416.0   \n",
       "4  19748.0         0.14         2991.0               0.02        23576.0   \n",
       "\n",
       "   Entertainment_PCT    Game  Game_PCT  Launcher  Launcher_PCT  ...  state_TX  \\\n",
       "0               0.00  4183.0      0.03    8743.0          0.06  ...         0   \n",
       "1               0.07     3.0      0.00   13699.0          0.10  ...         0   \n",
       "2               0.00  1299.0      0.01   18779.0          0.11  ...         0   \n",
       "3               0.01  1366.0      0.01    9520.0          0.06  ...         0   \n",
       "4               0.16   973.0      0.01   30387.0          0.21  ...         0   \n",
       "\n",
       "   state_UT  state_VA  state_WA  state_WI  income_group_100+  \\\n",
       "0         0         0         0         0                  0   \n",
       "1         0         0         0         0                  1   \n",
       "2         0         0         0         0                  0   \n",
       "3         0         0         0         0                  0   \n",
       "4         0         0         0         0                  0   \n",
       "\n",
       "   income_group_50-100  age_group_25-35  age_group_36-50  age_group_51+  \n",
       "0                    1                1                0              0  \n",
       "1                    0                0                1              0  \n",
       "2                    1                0                1              0  \n",
       "3                    0                0                0              0  \n",
       "4                    0                0                0              0  \n",
       "\n",
       "[5 rows x 63 columns]"
      ]
     },
     "execution_count": 32,
     "metadata": {},
     "output_type": "execute_result"
    }
   ],
   "source": [
    "df.head()"
   ]
  },
  {
   "cell_type": "markdown",
   "metadata": {},
   "source": [
    "# Training and Testing Data"
   ]
  },
  {
   "cell_type": "code",
   "execution_count": 33,
   "metadata": {},
   "outputs": [],
   "source": [
    "from sklearn.model_selection import train_test_split"
   ]
  },
  {
   "cell_type": "code",
   "execution_count": 34,
   "metadata": {},
   "outputs": [],
   "source": [
    "X = df.drop('Left', axis=1).values\n",
    "y= df['Left'].values"
   ]
  },
  {
   "cell_type": "code",
   "execution_count": 35,
   "metadata": {},
   "outputs": [],
   "source": [
    "#y= y.reshape(len(y),1)"
   ]
  },
  {
   "cell_type": "code",
   "execution_count": 91,
   "metadata": {},
   "outputs": [
    {
     "data": {
      "text/plain": [
       "array([[ 3.75426589, -0.02120729, -0.53808822, ...,  1.30029678,\n",
       "        -0.75983481, -0.43260011],\n",
       "       [ 0.72790331, -0.02420575, -0.18387339, ..., -0.7690552 ,\n",
       "         1.31607553, -0.43260011],\n",
       "       [ 0.26347271, -0.02485759,  0.6654594 , ..., -0.7690552 ,\n",
       "         1.31607553, -0.43260011],\n",
       "       ...,\n",
       "       [-0.62010453, -0.02550943, -0.67106041, ..., -0.7690552 ,\n",
       "         1.31607553, -0.43260011],\n",
       "       [-0.62010453, -0.02550943, -0.67116341, ..., -0.7690552 ,\n",
       "        -0.75983481,  2.31160365],\n",
       "       [-0.61980984, -0.02316281, -0.67116341, ...,  1.30029678,\n",
       "        -0.75983481, -0.43260011]])"
      ]
     },
     "execution_count": 91,
     "metadata": {},
     "output_type": "execute_result"
    }
   ],
   "source": [
    "X"
   ]
  },
  {
   "cell_type": "code",
   "execution_count": 37,
   "metadata": {},
   "outputs": [],
   "source": [
    "\n",
    "#Strip of Response values\n",
    "#y = df['Left'].values.astype(np.int)\n",
    "#y.size"
   ]
  },
  {
   "cell_type": "code",
   "execution_count": 38,
   "metadata": {},
   "outputs": [],
   "source": [
    "X_train, X_test, y_train, y_test = train_test_split(X, y, test_size = 0.3, random_state = 101)"
   ]
  },
  {
   "cell_type": "markdown",
   "metadata": {},
   "source": [
    "# Feature Scaling"
   ]
  },
  {
   "cell_type": "code",
   "execution_count": 39,
   "metadata": {},
   "outputs": [],
   "source": [
    "from sklearn.preprocessing import StandardScaler"
   ]
  },
  {
   "cell_type": "code",
   "execution_count": 40,
   "metadata": {},
   "outputs": [],
   "source": [
    "sc_X = StandardScaler()"
   ]
  },
  {
   "cell_type": "code",
   "execution_count": 41,
   "metadata": {},
   "outputs": [],
   "source": [
    "X_train = sc_X.fit_transform(X_train)"
   ]
  },
  {
   "cell_type": "code",
   "execution_count": 42,
   "metadata": {},
   "outputs": [],
   "source": [
    "X_test = sc_X.fit_transform(X_test)"
   ]
  },
  {
   "cell_type": "code",
   "execution_count": 43,
   "metadata": {},
   "outputs": [],
   "source": [
    "#no need to scale for y\n",
    "#sc_y = StandardScaler()"
   ]
  },
  {
   "cell_type": "code",
   "execution_count": 44,
   "metadata": {},
   "outputs": [],
   "source": [
    "#y_train = sc_y.fit_transform(y_train)\n",
    "#y_test = sc_y.fit_transform(y_test)"
   ]
  },
  {
   "cell_type": "markdown",
   "metadata": {},
   "source": [
    "# Training Model - Logistic Model"
   ]
  },
  {
   "cell_type": "code",
   "execution_count": 45,
   "metadata": {},
   "outputs": [],
   "source": [
    "from sklearn.linear_model import LogisticRegression"
   ]
  },
  {
   "cell_type": "code",
   "execution_count": 46,
   "metadata": {},
   "outputs": [
    {
     "data": {
      "text/plain": [
       "LogisticRegression(C=1.0, class_weight=None, dual=False, fit_intercept=True,\n",
       "                   intercept_scaling=1, l1_ratio=None, max_iter=100,\n",
       "                   multi_class='auto', n_jobs=None, penalty='l2',\n",
       "                   random_state=None, solver='lbfgs', tol=0.0001, verbose=0,\n",
       "                   warm_start=False)"
      ]
     },
     "execution_count": 46,
     "metadata": {},
     "output_type": "execute_result"
    }
   ],
   "source": [
    "logmodel = LogisticRegression()\n",
    "logmodel.fit(X_train, y_train)"
   ]
  },
  {
   "cell_type": "markdown",
   "metadata": {},
   "source": [
    "# Logistic Model: Predictions and Evaluation"
   ]
  },
  {
   "cell_type": "code",
   "execution_count": 47,
   "metadata": {},
   "outputs": [],
   "source": [
    "predictions = logmodel.predict(X_test)"
   ]
  },
  {
   "cell_type": "code",
   "execution_count": 48,
   "metadata": {},
   "outputs": [],
   "source": [
    "from sklearn.metrics import classification_report"
   ]
  },
  {
   "cell_type": "code",
   "execution_count": 49,
   "metadata": {},
   "outputs": [
    {
     "name": "stdout",
     "output_type": "stream",
     "text": [
      "              precision    recall  f1-score   support\n",
      "\n",
      "           0       0.70      0.75      0.72       818\n",
      "           1       0.67      0.61      0.64       678\n",
      "\n",
      "    accuracy                           0.69      1496\n",
      "   macro avg       0.68      0.68      0.68      1496\n",
      "weighted avg       0.68      0.69      0.68      1496\n",
      "\n"
     ]
    }
   ],
   "source": [
    "print(classification_report(y_test,predictions))"
   ]
  },
  {
   "cell_type": "code",
   "execution_count": 50,
   "metadata": {},
   "outputs": [],
   "source": [
    "from sklearn.metrics import confusion_matrix"
   ]
  },
  {
   "cell_type": "code",
   "execution_count": 51,
   "metadata": {},
   "outputs": [
    {
     "data": {
      "text/plain": [
       "array([[611, 207],\n",
       "       [263, 415]], dtype=int64)"
      ]
     },
     "execution_count": 51,
     "metadata": {},
     "output_type": "execute_result"
    }
   ],
   "source": [
    "confusion_matrix(y_test, predictions)"
   ]
  },
  {
   "cell_type": "code",
   "execution_count": 52,
   "metadata": {},
   "outputs": [
    {
     "data": {
      "text/plain": [
       "0.6858288770053476"
      ]
     },
     "execution_count": 52,
     "metadata": {},
     "output_type": "execute_result"
    }
   ],
   "source": [
    "#accuracy\n",
    "(611+415)/(611+207+263+415)"
   ]
  },
  {
   "cell_type": "code",
   "execution_count": 53,
   "metadata": {},
   "outputs": [
    {
     "data": {
      "text/plain": [
       "0.6990846681922197"
      ]
     },
     "execution_count": 53,
     "metadata": {},
     "output_type": "execute_result"
    }
   ],
   "source": [
    "#precision tp/(tp+fp)\n",
    "611/(611+263)"
   ]
  },
  {
   "cell_type": "code",
   "execution_count": 54,
   "metadata": {},
   "outputs": [
    {
     "data": {
      "text/plain": [
       "0.7469437652811736"
      ]
     },
     "execution_count": 54,
     "metadata": {},
     "output_type": "execute_result"
    }
   ],
   "source": [
    "#recall tp/(tp+fn)\n",
    "611/(611+207)"
   ]
  },
  {
   "cell_type": "markdown",
   "metadata": {},
   "source": [
    "# ROC Curve"
   ]
  },
  {
   "cell_type": "code",
   "execution_count": 55,
   "metadata": {},
   "outputs": [],
   "source": [
    "from sklearn.metrics import roc_curve"
   ]
  },
  {
   "cell_type": "code",
   "execution_count": 56,
   "metadata": {},
   "outputs": [
    {
     "data": {
      "image/png": "[encoded data removed]",
      "text/plain": [
       "<Figure size 864x432 with 1 Axes>"
      ]
     },
     "metadata": {},
     "output_type": "display_data"
    }
   ],
   "source": [
    "from sklearn.metrics import roc_curve\n",
    "\n",
    "logmodel.fit(X_train, y_train)\n",
    "\n",
    "y_pred = logmodel.predict(X_test)\n",
    "\n",
    "y_pred_prob = logmodel.predict_proba(X_test)[:,1]\n",
    "\n",
    "fpr, tpr, thresholds = roc_curve(y_test, y_pred_prob)\n",
    "y_test.shape\n",
    "y_pred_prob.shape\n",
    "\n",
    "plt.figure(figsize=(12,6))\n",
    "plt.plot([0,1], [0,1], 'k--')\n",
    "plt.plot(fpr, tpr, label = 'Logistic Regression')\n",
    "plt.xlabel('False Positive Rate')\n",
    "plt.ylabel('True Positive Rate')\n",
    "plt.title('Logistics Regression ROC Curve')\n",
    "plt.show()"
   ]
  },
  {
   "cell_type": "markdown",
   "metadata": {},
   "source": [
    "# AUC (Area Under Curve)"
   ]
  },
  {
   "cell_type": "code",
   "execution_count": 57,
   "metadata": {},
   "outputs": [
    {
     "data": {
      "text/plain": [
       "0.7489127377371962"
      ]
     },
     "execution_count": 57,
     "metadata": {},
     "output_type": "execute_result"
    }
   ],
   "source": [
    "from sklearn.metrics import roc_auc_score\n",
    "\n",
    "logmodel = LogisticRegression()\n",
    "\n",
    "logmodel.fit(X_train, y_train)\n",
    "\n",
    "y_pred_prob = logmodel.predict_log_proba(X_test)[:,1]\n",
    "\n",
    "roc_auc_score(y_test, y_pred_prob)"
   ]
  },
  {
   "cell_type": "code",
   "execution_count": 58,
   "metadata": {},
   "outputs": [
    {
     "name": "stderr",
     "output_type": "stream",
     "text": [
      "C:\\Users\\namkyu.im\\Anaconda3\\lib\\site-packages\\sklearn\\linear_model\\_logistic.py:940: ConvergenceWarning: lbfgs failed to converge (status=1):\n",
      "STOP: TOTAL NO. of ITERATIONS REACHED LIMIT.\n",
      "\n",
      "Increase the number of iterations (max_iter) or scale the data as shown in:\n",
      "    https://scikit-learn.org/stable/modules/preprocessing.html\n",
      "Please also refer to the documentation for alternative solver options:\n",
      "    https://scikit-learn.org/stable/modules/linear_model.html#logistic-regression\n",
      "  extra_warning_msg=_LOGISTIC_SOLVER_CONVERGENCE_MSG)\n",
      "C:\\Users\\namkyu.im\\Anaconda3\\lib\\site-packages\\sklearn\\linear_model\\_logistic.py:940: ConvergenceWarning: lbfgs failed to converge (status=1):\n",
      "STOP: TOTAL NO. of ITERATIONS REACHED LIMIT.\n",
      "\n",
      "Increase the number of iterations (max_iter) or scale the data as shown in:\n",
      "    https://scikit-learn.org/stable/modules/preprocessing.html\n",
      "Please also refer to the documentation for alternative solver options:\n",
      "    https://scikit-learn.org/stable/modules/linear_model.html#logistic-regression\n",
      "  extra_warning_msg=_LOGISTIC_SOLVER_CONVERGENCE_MSG)\n",
      "C:\\Users\\namkyu.im\\Anaconda3\\lib\\site-packages\\sklearn\\linear_model\\_logistic.py:940: ConvergenceWarning: lbfgs failed to converge (status=1):\n",
      "STOP: TOTAL NO. of ITERATIONS REACHED LIMIT.\n",
      "\n",
      "Increase the number of iterations (max_iter) or scale the data as shown in:\n",
      "    https://scikit-learn.org/stable/modules/preprocessing.html\n",
      "Please also refer to the documentation for alternative solver options:\n",
      "    https://scikit-learn.org/stable/modules/linear_model.html#logistic-regression\n",
      "  extra_warning_msg=_LOGISTIC_SOLVER_CONVERGENCE_MSG)\n",
      "C:\\Users\\namkyu.im\\Anaconda3\\lib\\site-packages\\sklearn\\linear_model\\_logistic.py:940: ConvergenceWarning: lbfgs failed to converge (status=1):\n",
      "STOP: TOTAL NO. of ITERATIONS REACHED LIMIT.\n",
      "\n",
      "Increase the number of iterations (max_iter) or scale the data as shown in:\n",
      "    https://scikit-learn.org/stable/modules/preprocessing.html\n",
      "Please also refer to the documentation for alternative solver options:\n",
      "    https://scikit-learn.org/stable/modules/linear_model.html#logistic-regression\n",
      "  extra_warning_msg=_LOGISTIC_SOLVER_CONVERGENCE_MSG)\n"
     ]
    },
    {
     "name": "stdout",
     "output_type": "stream",
     "text": [
      "[0.53255276 0.62124317 0.67002911 0.7070526  0.58924099]\n"
     ]
    }
   ],
   "source": [
    "#AUC using cross-validation\n",
    "from sklearn.model_selection import cross_val_score\n",
    "\n",
    "cv_scores = cross_val_score(logmodel, X, y, cv=5, scoring = 'roc_auc')\n",
    "\n",
    "print(cv_scores)"
   ]
  },
  {
   "cell_type": "markdown",
   "metadata": {},
   "source": [
    "# Log_Loss"
   ]
  },
  {
   "cell_type": "code",
   "execution_count": 59,
   "metadata": {},
   "outputs": [],
   "source": [
    "from sklearn.metrics import log_loss"
   ]
  },
  {
   "cell_type": "code",
   "execution_count": 60,
   "metadata": {},
   "outputs": [
    {
     "name": "stdout",
     "output_type": "stream",
     "text": [
      "Log Loss = 10.85120\n"
     ]
    }
   ],
   "source": [
    "score = log_loss(y_test, predictions)\n",
    "print(\"Log Loss = {:.5f}\".format(score))"
   ]
  },
  {
   "cell_type": "markdown",
   "metadata": {},
   "source": [
    "# Gradient Boosting"
   ]
  },
  {
   "cell_type": "code",
   "execution_count": 61,
   "metadata": {},
   "outputs": [],
   "source": [
    "#import Gradient Boosting Classifier model\n",
    "from sklearn.ensemble import GradientBoostingClassifier"
   ]
  },
  {
   "cell_type": "code",
   "execution_count": 62,
   "metadata": {},
   "outputs": [],
   "source": [
    "gb = GradientBoostingClassifier()"
   ]
  },
  {
   "cell_type": "code",
   "execution_count": 63,
   "metadata": {},
   "outputs": [
    {
     "data": {
      "text/plain": [
       "GradientBoostingClassifier(ccp_alpha=0.0, criterion='friedman_mse', init=None,\n",
       "                           learning_rate=0.1, loss='deviance', max_depth=3,\n",
       "                           max_features=None, max_leaf_nodes=None,\n",
       "                           min_impurity_decrease=0.0, min_impurity_split=None,\n",
       "                           min_samples_leaf=1, min_samples_split=2,\n",
       "                           min_weight_fraction_leaf=0.0, n_estimators=100,\n",
       "                           n_iter_no_change=None, presort='deprecated',\n",
       "                           random_state=None, subsample=1.0, tol=0.0001,\n",
       "                           validation_fraction=0.1, verbose=0,\n",
       "                           warm_start=False)"
      ]
     },
     "execution_count": 63,
     "metadata": {},
     "output_type": "execute_result"
    }
   ],
   "source": [
    "gb.fit(X_train, y_train)"
   ]
  },
  {
   "cell_type": "code",
   "execution_count": 64,
   "metadata": {},
   "outputs": [],
   "source": [
    "predictions = gb.predict(X_test)"
   ]
  },
  {
   "cell_type": "code",
   "execution_count": 65,
   "metadata": {},
   "outputs": [
    {
     "name": "stdout",
     "output_type": "stream",
     "text": [
      "              precision    recall  f1-score   support\n",
      "\n",
      "           0       0.72      0.79      0.75       818\n",
      "           1       0.71      0.62      0.66       678\n",
      "\n",
      "    accuracy                           0.72      1496\n",
      "   macro avg       0.71      0.71      0.71      1496\n",
      "weighted avg       0.72      0.72      0.71      1496\n",
      "\n"
     ]
    }
   ],
   "source": [
    "print(classification_report(y_test, predictions))"
   ]
  },
  {
   "cell_type": "markdown",
   "metadata": {},
   "source": [
    "# Log_Loss from GB model"
   ]
  },
  {
   "cell_type": "code",
   "execution_count": 66,
   "metadata": {},
   "outputs": [
    {
     "name": "stdout",
     "output_type": "stream",
     "text": [
      "Log Loss = 9.83533\n"
     ]
    }
   ],
   "source": [
    "score = log_loss(y_test, predictions)\n",
    "print(\"Log Loss = {:.5f}\".format(score))"
   ]
  },
  {
   "cell_type": "markdown",
   "metadata": {},
   "source": [
    "### Better log loss in the GB model"
   ]
  },
  {
   "cell_type": "markdown",
   "metadata": {},
   "source": [
    "# Feature Importance from the classifier"
   ]
  },
  {
   "cell_type": "code",
   "execution_count": 67,
   "metadata": {},
   "outputs": [],
   "source": [
    " feature_importance = gb.feature_importances_"
   ]
  },
  {
   "cell_type": "code",
   "execution_count": 68,
   "metadata": {},
   "outputs": [
    {
     "name": "stdout",
     "output_type": "stream",
     "text": [
      "[1.43877439e-02 4.57157516e-03 3.78185544e-02 8.77547966e-03\n",
      " 1.55318762e-02 1.12955477e-02 1.89177729e-02 4.78153831e-03\n",
      " 2.32721706e-02 2.63457967e-02 1.42556139e-02 6.33914646e-03\n",
      " 1.82728460e-01 2.41295996e-02 1.22003637e-02 2.22554819e-02\n",
      " 1.36411754e-02 7.39068258e-03 5.44737893e-02 1.57942723e-02\n",
      " 1.13037254e-01 2.85122891e-01 6.76098207e-03 1.45561180e-03\n",
      " 0.00000000e+00 0.00000000e+00 4.42806292e-02 9.28432968e-04\n",
      " 1.35042215e-03 1.50475620e-03 0.00000000e+00 0.00000000e+00\n",
      " 0.00000000e+00 4.18661871e-03 1.57587553e-03 0.00000000e+00\n",
      " 0.00000000e+00 8.29157403e-04 2.83695357e-04 6.63158344e-04\n",
      " 1.20559534e-03 0.00000000e+00 2.15064968e-03 2.68482546e-03\n",
      " 2.40815795e-03 6.18110784e-04 0.00000000e+00 0.00000000e+00\n",
      " 4.04400303e-04 0.00000000e+00 0.00000000e+00 5.09415094e-04\n",
      " 3.88089579e-04 1.03040260e-03 0.00000000e+00 0.00000000e+00\n",
      " 0.00000000e+00 2.09818949e-03 4.81392066e-04 1.78163537e-03\n",
      " 2.64283006e-03 7.10181279e-04]\n"
     ]
    }
   ],
   "source": [
    "print(feature_importance)"
   ]
  },
  {
   "cell_type": "code",
   "execution_count": 69,
   "metadata": {},
   "outputs": [],
   "source": [
    "df.drop('Left', axis=1, inplace =True)"
   ]
  },
  {
   "cell_type": "code",
   "execution_count": 70,
   "metadata": {},
   "outputs": [],
   "source": [
    "feat_importance = pd.Series(feature_importance, index=df.columns)"
   ]
  },
  {
   "cell_type": "code",
   "execution_count": 71,
   "metadata": {},
   "outputs": [
    {
     "data": {
      "text/plain": [
       "<matplotlib.axes._subplots.AxesSubplot at 0x211170aeb88>"
      ]
     },
     "execution_count": 71,
     "metadata": {},
     "output_type": "execute_result"
    },
    {
     "data": {
      "image/png": "[encoded data removed]",
      "text/plain": [
       "<Figure size 864x432 with 1 Axes>"
      ]
     },
     "metadata": {},
     "output_type": "display_data"
    }
   ],
   "source": [
    "feat_importance = feat_importance.nlargest(10)\n",
    "feat_importance.plot(kind ='barh', figsize = (12,6))"
   ]
  },
  {
   "cell_type": "code",
   "execution_count": 72,
   "metadata": {},
   "outputs": [],
   "source": [
    "#Older devices and staying longer users leave Samsung - offer promotion deals to those folks"
   ]
  },
  {
   "cell_type": "markdown",
   "metadata": {},
   "source": [
    "# Re-train the model with the full data and predict all users"
   ]
  },
  {
   "cell_type": "code",
   "execution_count": 92,
   "metadata": {},
   "outputs": [],
   "source": [
    "from sklearn.preprocessing import StandardScaler\n",
    "sc = StandardScaler()\n",
    "X = sc.fit_transform(X)"
   ]
  },
  {
   "cell_type": "code",
   "execution_count": 93,
   "metadata": {},
   "outputs": [
    {
     "name": "stdout",
     "output_type": "stream",
     "text": [
      "[[ 3.75426589 -0.02120729 -0.53808822 ...  1.30029678 -0.75983481\n",
      "  -0.43260011]\n",
      " [ 0.72790331 -0.02420575 -0.18387339 ... -0.7690552   1.31607553\n",
      "  -0.43260011]\n",
      " [ 0.26347271 -0.02485759  0.6654594  ... -0.7690552   1.31607553\n",
      "  -0.43260011]\n",
      " ...\n",
      " [-0.62010453 -0.02550943 -0.67106041 ... -0.7690552   1.31607553\n",
      "  -0.43260011]\n",
      " [-0.62010453 -0.02550943 -0.67116341 ... -0.7690552  -0.75983481\n",
      "   2.31160365]\n",
      " [-0.61980984 -0.02316281 -0.67116341 ...  1.30029678 -0.75983481\n",
      "  -0.43260011]]\n"
     ]
    }
   ],
   "source": [
    "print(X)"
   ]
  },
  {
   "cell_type": "code",
   "execution_count": 86,
   "metadata": {},
   "outputs": [
    {
     "data": {
      "text/plain": [
       "array([0, 1, 1, ..., 0, 1, 1], dtype=int64)"
      ]
     },
     "execution_count": 86,
     "metadata": {},
     "output_type": "execute_result"
    }
   ],
   "source": [
    "predictions = gb.predict(X)\n",
    "predictions"
   ]
  },
  {
   "cell_type": "code",
   "execution_count": 90,
   "metadata": {},
   "outputs": [
    {
     "data": {
      "text/plain": [
       "array([0, 0, 0, ..., 0, 1, 1], dtype=int64)"
      ]
     },
     "execution_count": 90,
     "metadata": {},
     "output_type": "execute_result"
    }
   ],
   "source": [
    "log_predictions = logmodel.predict(X)\n",
    "log_predictions"
   ]
  },
  {
   "cell_type": "code",
   "execution_count": 87,
   "metadata": {},
   "outputs": [],
   "source": [
    "predictions = pd.DataFrame(data=predictions, columns = ['churn'])"
   ]
  },
  {
   "cell_type": "markdown",
   "metadata": {},
   "source": [
    "# Scoring predictions"
   ]
  },
  {
   "cell_type": "markdown",
   "metadata": {},
   "source": [
    "## Log Model Scoring"
   ]
  },
  {
   "cell_type": "code",
   "execution_count": 97,
   "metadata": {},
   "outputs": [
    {
     "name": "stdout",
     "output_type": "stream",
     "text": [
      "(4986, 2)\n"
     ]
    },
    {
     "data": {
      "text/plain": [
       "array([[0.61525773, 0.38474227],\n",
       "       [0.58044496, 0.41955504],\n",
       "       [0.64855507, 0.35144493],\n",
       "       ...,\n",
       "       [0.5074075 , 0.4925925 ],\n",
       "       [0.11704025, 0.88295975],\n",
       "       [0.08407782, 0.91592218]])"
      ]
     },
     "execution_count": 97,
     "metadata": {},
     "output_type": "execute_result"
    }
   ],
   "source": [
    "pred_score = logmodel.predict_proba(X)\n",
    "\n",
    "print(pred_score.shape)\n",
    "pred_score"
   ]
  },
  {
   "cell_type": "markdown",
   "metadata": {},
   "source": [
    "# Quantile & Decimile Analysis"
   ]
  },
  {
   "cell_type": "code",
   "execution_count": 106,
   "metadata": {},
   "outputs": [],
   "source": [
    "prediction_y = pd.DataFrame(data = pred_score, columns =['churn', 'no_churn'])"
   ]
  },
  {
   "cell_type": "code",
   "execution_count": 107,
   "metadata": {},
   "outputs": [
    {
     "name": "stdout",
     "output_type": "stream",
     "text": [
      "         churn  no_churn  Quantile_rank\n",
      "0     0.615258  0.384742              2\n",
      "1     0.580445  0.419555              1\n",
      "2     0.648555  0.351445              2\n",
      "3     0.519812  0.480188              1\n",
      "4     0.630281  0.369719              2\n",
      "...        ...       ...            ...\n",
      "4981  0.113616  0.886384              0\n",
      "4982  0.976415  0.023585              3\n",
      "4983  0.507407  0.492593              1\n",
      "4984  0.117040  0.882960              0\n",
      "4985  0.084078  0.915922              0\n",
      "\n",
      "[4986 rows x 3 columns]\n"
     ]
    }
   ],
   "source": [
    "prediction_y['Quantile_rank']=pd.qcut(prediction_y['churn'],4,labels=False)\n",
    "print(prediction_y)"
   ]
  },
  {
   "cell_type": "code",
   "execution_count": 108,
   "metadata": {},
   "outputs": [
    {
     "name": "stdout",
     "output_type": "stream",
     "text": [
      "         churn  no_churn  Quantile_rank  Decile_rank\n",
      "0     0.615258  0.384742              2            5\n",
      "1     0.580445  0.419555              1            4\n",
      "2     0.648555  0.351445              2            5\n",
      "3     0.519812  0.480188              1            4\n",
      "4     0.630281  0.369719              2            5\n",
      "...        ...       ...            ...          ...\n",
      "4981  0.113616  0.886384              0            0\n",
      "4982  0.976415  0.023585              3            9\n",
      "4983  0.507407  0.492593              1            4\n",
      "4984  0.117040  0.882960              0            0\n",
      "4985  0.084078  0.915922              0            0\n",
      "\n",
      "[4986 rows x 4 columns]\n"
     ]
    }
   ],
   "source": [
    "prediction_y['Decile_rank']=pd.qcut(prediction_y['churn'],10,labels=False)\n",
    "print(prediction_y)"
   ]
  },
  {
   "cell_type": "markdown",
   "metadata": {},
   "source": [
    "# Join Scoring to the full Data"
   ]
  },
  {
   "cell_type": "code",
   "execution_count": 109,
   "metadata": {},
   "outputs": [
    {
     "data": {
      "text/html": [
       "<div>\n",
       "<style scoped>\n",
       "    .dataframe tbody tr th:only-of-type {\n",
       "        vertical-align: middle;\n",
       "    }\n",
       "\n",
       "    .dataframe tbody tr th {\n",
       "        vertical-align: top;\n",
       "    }\n",
       "\n",
       "    .dataframe thead th {\n",
       "        text-align: right;\n",
       "    }\n",
       "</style>\n",
       "<table border=\"1\" class=\"dataframe\">\n",
       "  <thead>\n",
       "    <tr style=\"text-align: right;\">\n",
       "      <th></th>\n",
       "      <th>left</th>\n",
       "    </tr>\n",
       "  </thead>\n",
       "  <tbody>\n",
       "    <tr>\n",
       "      <th>0</th>\n",
       "      <td>0</td>\n",
       "    </tr>\n",
       "    <tr>\n",
       "      <th>1</th>\n",
       "      <td>1</td>\n",
       "    </tr>\n",
       "    <tr>\n",
       "      <th>2</th>\n",
       "      <td>1</td>\n",
       "    </tr>\n",
       "    <tr>\n",
       "      <th>3</th>\n",
       "      <td>1</td>\n",
       "    </tr>\n",
       "    <tr>\n",
       "      <th>4</th>\n",
       "      <td>1</td>\n",
       "    </tr>\n",
       "  </tbody>\n",
       "</table>\n",
       "</div>"
      ],
      "text/plain": [
       "   left\n",
       "0     0\n",
       "1     1\n",
       "2     1\n",
       "3     1\n",
       "4     1"
      ]
     },
     "execution_count": 109,
     "metadata": {},
     "output_type": "execute_result"
    }
   ],
   "source": [
    "original_y = pd.DataFrame(data = y, columns =['left'])\n",
    "original_y.head()"
   ]
  },
  {
   "cell_type": "code",
   "execution_count": 112,
   "metadata": {},
   "outputs": [
    {
     "data": {
      "text/html": [
       "<div>\n",
       "<style scoped>\n",
       "    .dataframe tbody tr th:only-of-type {\n",
       "        vertical-align: middle;\n",
       "    }\n",
       "\n",
       "    .dataframe tbody tr th {\n",
       "        vertical-align: top;\n",
       "    }\n",
       "\n",
       "    .dataframe thead th {\n",
       "        text-align: right;\n",
       "    }\n",
       "</style>\n",
       "<table border=\"1\" class=\"dataframe\">\n",
       "  <thead>\n",
       "    <tr style=\"text-align: right;\">\n",
       "      <th></th>\n",
       "      <th>churn</th>\n",
       "      <th>no_churn</th>\n",
       "      <th>Quantile_rank</th>\n",
       "      <th>Decile_rank</th>\n",
       "      <th>left</th>\n",
       "    </tr>\n",
       "  </thead>\n",
       "  <tbody>\n",
       "    <tr>\n",
       "      <th>0</th>\n",
       "      <td>0.615258</td>\n",
       "      <td>0.384742</td>\n",
       "      <td>2</td>\n",
       "      <td>5</td>\n",
       "      <td>0</td>\n",
       "    </tr>\n",
       "    <tr>\n",
       "      <th>1</th>\n",
       "      <td>0.580445</td>\n",
       "      <td>0.419555</td>\n",
       "      <td>1</td>\n",
       "      <td>4</td>\n",
       "      <td>1</td>\n",
       "    </tr>\n",
       "    <tr>\n",
       "      <th>2</th>\n",
       "      <td>0.648555</td>\n",
       "      <td>0.351445</td>\n",
       "      <td>2</td>\n",
       "      <td>5</td>\n",
       "      <td>1</td>\n",
       "    </tr>\n",
       "    <tr>\n",
       "      <th>3</th>\n",
       "      <td>0.519812</td>\n",
       "      <td>0.480188</td>\n",
       "      <td>1</td>\n",
       "      <td>4</td>\n",
       "      <td>1</td>\n",
       "    </tr>\n",
       "    <tr>\n",
       "      <th>4</th>\n",
       "      <td>0.630281</td>\n",
       "      <td>0.369719</td>\n",
       "      <td>2</td>\n",
       "      <td>5</td>\n",
       "      <td>1</td>\n",
       "    </tr>\n",
       "    <tr>\n",
       "      <th>...</th>\n",
       "      <td>...</td>\n",
       "      <td>...</td>\n",
       "      <td>...</td>\n",
       "      <td>...</td>\n",
       "      <td>...</td>\n",
       "    </tr>\n",
       "    <tr>\n",
       "      <th>95</th>\n",
       "      <td>0.797307</td>\n",
       "      <td>0.202693</td>\n",
       "      <td>3</td>\n",
       "      <td>7</td>\n",
       "      <td>0</td>\n",
       "    </tr>\n",
       "    <tr>\n",
       "      <th>96</th>\n",
       "      <td>0.671523</td>\n",
       "      <td>0.328477</td>\n",
       "      <td>2</td>\n",
       "      <td>6</td>\n",
       "      <td>0</td>\n",
       "    </tr>\n",
       "    <tr>\n",
       "      <th>97</th>\n",
       "      <td>0.496615</td>\n",
       "      <td>0.503385</td>\n",
       "      <td>1</td>\n",
       "      <td>3</td>\n",
       "      <td>1</td>\n",
       "    </tr>\n",
       "    <tr>\n",
       "      <th>98</th>\n",
       "      <td>0.599122</td>\n",
       "      <td>0.400878</td>\n",
       "      <td>2</td>\n",
       "      <td>5</td>\n",
       "      <td>0</td>\n",
       "    </tr>\n",
       "    <tr>\n",
       "      <th>99</th>\n",
       "      <td>0.301394</td>\n",
       "      <td>0.698606</td>\n",
       "      <td>0</td>\n",
       "      <td>2</td>\n",
       "      <td>0</td>\n",
       "    </tr>\n",
       "  </tbody>\n",
       "</table>\n",
       "<p>100 rows × 5 columns</p>\n",
       "</div>"
      ],
      "text/plain": [
       "       churn  no_churn  Quantile_rank  Decile_rank  left\n",
       "0   0.615258  0.384742              2            5     0\n",
       "1   0.580445  0.419555              1            4     1\n",
       "2   0.648555  0.351445              2            5     1\n",
       "3   0.519812  0.480188              1            4     1\n",
       "4   0.630281  0.369719              2            5     1\n",
       "..       ...       ...            ...          ...   ...\n",
       "95  0.797307  0.202693              3            7     0\n",
       "96  0.671523  0.328477              2            6     0\n",
       "97  0.496615  0.503385              1            3     1\n",
       "98  0.599122  0.400878              2            5     0\n",
       "99  0.301394  0.698606              0            2     0\n",
       "\n",
       "[100 rows x 5 columns]"
      ]
     },
     "execution_count": 112,
     "metadata": {},
     "output_type": "execute_result"
    }
   ],
   "source": [
    "device_churn = prediction_y.join(original_y)\n",
    "device_churn.head(100)"
   ]
  },
  {
   "cell_type": "markdown",
   "metadata": {},
   "source": [
    "# Writing results"
   ]
  },
  {
   "cell_type": "code",
   "execution_count": 115,
   "metadata": {},
   "outputs": [],
   "source": [
    "device_churn.to_csv('device_churn.csv', index= False)"
   ]
  },
  {
   "cell_type": "code",
   "execution_count": null,
   "metadata": {},
   "outputs": [],
   "source": []
  }
 ],
 "metadata": {
  "kernelspec": {
   "display_name": "Python 3",
   "language": "python",
   "name": "python3"
  },
  "language_info": {
   "codemirror_mode": {
    "name": "ipython",
    "version": 3
   },
   "file_extension": ".py",
   "mimetype": "text/x-python",
   "name": "python",
   "nbconvert_exporter": "python",
   "pygments_lexer": "ipython3",
   "version": "3.7.6"
  }
 },
 "nbformat": 4,
 "nbformat_minor": 4
}
